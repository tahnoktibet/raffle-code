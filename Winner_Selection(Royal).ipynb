{
  "nbformat": 4,
  "nbformat_minor": 0,
  "metadata": {
    "colab": {
      "provenance": [],
      "authorship_tag": "ABX9TyPNYCBrkkE22hu61nTU1e6A",
      "include_colab_link": true
    },
    "kernelspec": {
      "name": "python3",
      "display_name": "Python 3"
    },
    "language_info": {
      "name": "python"
    }
  },
  "cells": [
    {
      "cell_type": "markdown",
      "metadata": {
        "id": "view-in-github",
        "colab_type": "text"
      },
      "source": [
        "<a href=\"https://colab.research.google.com/github/tahnoktibet/raffle-code/blob/main/Winner_Selection(Royal).ipynb\" target=\"_parent\"><img src=\"https://colab.research.google.com/assets/colab-badge.svg\" alt=\"Open In Colab\"/></a>"
      ]
    },
    {
      "cell_type": "code",
      "metadata": {
        "id": "naxc02Trs_-O"
      },
      "source": [
        "####  Install Libraries ####\n",
        "\n",
        "\n",
        "!pip install fuzzy_pandas\n",
        "!pip install --upgrade gspread"
      ],
      "execution_count": null,
      "outputs": []
    },
    {
      "cell_type": "code",
      "metadata": {
        "id": "OMvry68suFyR"
      },
      "source": [
        "####  Import Libraries  ####\n",
        "\n",
        "\n",
        "from google.colab import auth\n",
        "from oauth2client.client import GoogleCredentials\n",
        "\n",
        "import gspread\n",
        "import gspread_dataframe as gd\n",
        "import pandas as pd\n",
        "import fuzzy_pandas as fpd\n",
        "import matplotlib.pyplot as plt"
      ],
      "execution_count": null,
      "outputs": []
    },
    {
      "cell_type": "code",
      "metadata": {
        "id": "AN-rMXfyuDDO"
      },
      "source": [
        "####  Authentication and Spreadsheet Selection  #####\n",
        "\n",
        "auth.authenticate_user()\n",
        "\n",
        "gc = gspread.authorize(GoogleCredentials.get_application_default())\n",
        "ss = gc.open_by_key('removedforsafety') #enters spreadsheet key to use for data"
      ],
      "execution_count": null,
      "outputs": []
    },
    {
      "cell_type": "code",
      "metadata": {
        "id": "_G46aP5TwRYJ",
        "colab": {
          "base_uri": "https://localhost:8080/"
        },
        "outputId": "fdd412cf-a13e-4dba-e990-3be53711ddc5"
      },
      "source": [
        "####  Code block 4 - RUN ME BEFORE SELECTION\n",
        "\n",
        "####  This block imports the entries with no changes & does the match/fuzzy check for all entries ####\n",
        "####  Press the 'play' button on the left to load the spreadsheets to this python script\n",
        "\n",
        "\n",
        "wsEntry = ss.worksheet('Entry') #selects the entries data\n",
        "rows = wsEntry.get_all_values()\n",
        "\n",
        "###   This imports the set of data we will modify\n",
        "dfEntry = pd.DataFrame.from_records(rows[1:],columns=rows[0])     #adds the sheet to a panda dataframe\n",
        "dfEntryBak = pd.DataFrame.from_records(rows[1:],columns=rows[0])  #create a backup unmodified data frame\n",
        "\n",
        "\n",
        "\n",
        "\n",
        "###   This section creates the fuzzy check for the full entries list, and exports it straight to the Fuzzy Check Spreadsheet\n",
        "\n",
        "wsFuzzyAll = ss.worksheet('FuzzyAll')   #defines FuzzyCheck as correct spreadsheet to export to\n",
        "wsFuzzyAll.clear()                      #ensures that the FuzzyAll spreadsheet is cleared\n",
        "\n",
        "resultsAll = fpd.fuzzy_merge(dfEntryBak, dfEntryBak,\n",
        "                          left_on=['Comment-Content'],\n",
        "                          right_on=['Comment-Content'],\n",
        "                          keep_left=['Handle','FollowerStat','Comment-Content','MasterSize'],\n",
        "                          keep_right=['Handle','FollowerStat','Comment-Content','MasterSize'],\n",
        "                          ignore_case=True,\n",
        "                          method='levenshtein',\n",
        "                          threshold=0.42)\n",
        "\n",
        "print(\"Found\",resultsAll.shape)\n",
        "resultsAll.head(100)\n",
        "\n",
        "wsFuzzyAll.update([resultsAll.columns.values.tolist()] + resultsAll.values.tolist())\n",
        "#dfEntry        #prints the data below to show it works, commented out for now"
      ],
      "execution_count": null,
      "cell_type": "code",
      "metadata": {
        "id": "3rqkKElbOsfU"
      },
      "source": [
        "###   Code block 5 - run me to select winners for a given size\n",
        "###   This block selects the winners, giving preference to their TRSFChance\n",
        "\n",
        "\n",
        "############################\n",
        "\n",
        "wsFuzzyCheck = ss.worksheet('FuzzyCheck') #defines FuzzyCheck as correct spreadsheet to export to\n",
        "wsWinners = ss.worksheet('Winners')       #sets wsWinners to the winners sheet\n",
        "\n",
        "###   Resets FuzzyCheck & winners sheet to blank\n",
        "wsFuzzyCheck.clear()\n",
        "wsWinners.clear()\n",
        "\n",
        "###   Resets the dfEntry dataframe to the original entry data\n",
        "dfEntry = pd.DataFrame.from_records(rows[1:],columns=rows[0])\n",
        "\n",
        "###########################\n",
        "\n",
        "                    ###THIS SECTION IS IMPORTANT####\n",
        "                    ###PLEASE ENSURE YOU CHOOSE SIZE\n",
        "                    #AND SELECT HOW MANY WINNERS\n",
        "                    #ALONG WITH THE SELECTION METHOD\n",
        "\n",
        "ordNumberOfWinners = 15   #Number of winners to select (cannot exceed number of entries in size)\n",
        "ordSize = 'UK9'           #Size to choose - variable must be as listed in MasterSize column (n.b. this is case sensitive and you have to use the following choices for UK6 'UK6: EU39' or 'UK6: EU40')\n",
        "ordWeight = 'Basechance'  #either 'TRSFChance' or 'Basechance' - CASE SENSITIVE\n",
        "\n",
        "###########################\n",
        "\n",
        "\n",
        "###   This section randomly selects the winners based on the weighting\n",
        "\n",
        "#dfEntry = dfEntry[dfEntry.MasterSize == ordSize]   #old code to filter to single selected size                               #filters sheet to only selected size\n",
        "#dfEntry = dfEntry.sample(n=ordNumberOfWinners, weights=ordWeight)                #selects from these columns\n",
        "\n",
        "\n",
        "listWeight = dfEntry['Basechance'].tolist()\n",
        "dfEntry = dfEntry[ ['Handle' , 'MasterSize' , 'DoubleSub','Comment-Content', 'TRSFMember', 'FollowerStat' , 'TRSFChance','Basechance']] #filters to just show these columns\n",
        "\n",
        "dfEntry = dfEntry.groupby('MasterSize').sample(n=ordNumberOfWinners,replace=True, weights=listWeight) #runs the selection\n",
        "\n",
        "\n",
        "\n",
        "wsWinners.update([dfEntry.columns.values.tolist()] + dfEntry.values.tolist())     #updates winners sheet with the winners\n",
        "\n",
        "###########################\n",
        "\n",
        "####    This section creates the fuzzy check for the winners list, and exports it straight to the Fuzzy Check Spreadsheet#####\n",
        "results = fpd.fuzzy_merge(dfEntry, dfEntryBak,\n",
        "                          left_on=['Comment-Content'],\n",
        "                          right_on=['Comment-Content'],\n",
        "                          keep_left=['Handle','FollowerStat','Comment-Content','MasterSize'],\n",
        "                          keep_right=['Handle','FollowerStat','Comment-Content','MasterSize'],\n",
        "                          ignore_case=True,\n",
        "                          method='levenshtein',\n",
        "                          threshold=0.42)\n",
        "\n",
        "print(\"Found\",results.shape)\n",
        "results.head(100)\n",
        "\n",
        "wsFuzzyCheck.update([results.columns.values.tolist()] + results.values.tolist())\n",
        "###########################"
      ],
      "execution_count": null,
      "outputs": []
    },
    {
      "cell_type": "code",
      "metadata": {
        "id": "ilO0koA-8BAD"
      },
      "source": [
        "# ###   Import the Allocation as a dataframe\n",
        "# ###   Not needed  yet\n",
        "# ###   Will be needed in future to automate allocation per sizes\n",
        "\n",
        "# wsAllo = ss.worksheet('Allo')\n",
        "# rows = wsAllo.get_all_values()\n",
        "# dfAllo = pd.DataFrame.from_records(rows[1:],columns=rows[0])\n",
        "\n",
        "# #####Import the Previous Winners as a dataframe######\n",
        "\n",
        "# wsPrevWin = ss.worksheet ('prev.win')\n",
        "# rows = wsEntry.get_all_values()\n",
        "# dfEntry = pd.DataFrame.from_records(rows[1:],columns=rows[0])\n"
      ],
      "execution_count": null,
      "outputs": []
    },
    {
      "cell_type": "code",
      "metadata": {
        "id": "539DJrnB7_DG"
      },
      "source": [
        "#results = fpd.fuzzy_merge(dfEntry, dfEntryBak,\n",
        "#                          left_on=['DoubleSub'],\n",
        "#                          right_on=['DoubleSub'],\n",
        "#                          keep_left=['Handle','FollowerStat','DoubleSub','MasterSize'],\n",
        "#                          keep_right=['Handle','DoubleSub','MasterSize'],\n",
        "#                          ignore_case=True,\n",
        "#                          method='levenshtein',\n",
        "#                          threshold=0.35)\n",
        "#\n",
        "#print(\"Found\",results.shape)\n",
        "#results.head(100)\n",
        "\n",
        "#wsFuzzyCheck.update([results.columns.values.tolist()] + results.values.tolist())"
      ],
      "execution_count": null,
      "outputs": []
    },
    {
      "cell_type": "code",
      "metadata": {
        "id": "hYTUlml5XV-K"
      },
      "source": [
        "#This block adds the winners to the winners sheet - been incorporated in to main code block, please ignore\n",
        "\n",
        "#wsWinners = ss.worksheet('Winners')\n",
        "#wsWinners.update([dfEntry.columns.values.tolist()] + dfEntry.values.tolist())\n",
        "\n",
        "\n"
      ],
      "execution_count": null,
      "outputs": []
    },
    {
      "cell_type": "code",
      "metadata": {
        "id": "kQHpCm91DIGe"
      },
      "source": [
        "#####ADDED TO SPREADSHEET BLOCK - CAN IGNORE#######\n",
        "\n",
        "#####This block provides a Fuzzy Match Output for the winners list compared to all entries####\n",
        "#####Adjust the threshold to increase/decrease the sensitivity########\n",
        "\n",
        "#wsFuzzyCheck = ss.worksheet('FuzzyCheck')\n",
        "\n",
        "# results = fpd.fuzzy_merge(dfEntry, dfEntryBak,\n",
        "#                           left_on=['DoubleSub'],\n",
        "#                           right_on=['DoubleSub'],\n",
        "#                           keep_left=['Handle','DoubleSub','MasterSize'],\n",
        "#                           keep_right=['Handle','DoubleSub','MasterSize'],\n",
        "#                           ignore_case=True,\n",
        "#                           method='levenshtein',\n",
        "#                           threshold=0.35)\n",
        "\n",
        "# print(\"Found\",results.shape)\n",
        "# results.head(100)\n",
        "\n",
        "#wsFuzzyCheck.update([results.columns.values.tolist()] + results.values.tolist())\n"
      ],
      "execution_count": null,
      "outputs": []
    }
  ]
}
